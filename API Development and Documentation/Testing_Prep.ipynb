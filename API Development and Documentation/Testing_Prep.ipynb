{
 "cells": [
  {
   "cell_type": "markdown",
   "metadata": {
    "graffitiCellId": "id_vj9sy38"
   },
   "source": [
    "# Testing Prep\n",
    "\n",
    "Before you get started writing your own testing code, we'll review the essential elements of writing a test suite using unittest in Python3. "
   ]
  },
  {
   "cell_type": "code",
   "execution_count": null,
   "metadata": {
    "graffitiCellId": "id_spla8ib"
   },
   "outputs": [],
   "source": [
    "# Import all dependencies\n",
    "import unittest\n",
    "import json\n",
    "from flaskr import create_app\n",
    "from models import setup_db"
   ]
  },
  {
   "cell_type": "code",
   "execution_count": null,
   "metadata": {
    "graffitiCellId": "id_ovptdea"
   },
   "outputs": [],
   "source": [
    "class ResourceTestCase(unittest.TestCase):\n",
    "    \"\"\"This class represents the resource test case\"\"\"\n",
    "\n",
    "    def setUp(self):\n",
    "        \"\"\"Define test variables and initialize app.\"\"\"\n",
    "        self.app = create_app()\n",
    "        self.client = self.app.test_client\n",
    "        self.database_name = \"test_db\"\n",
    "        self.database_path = \"postgres://{}/{}\".format('localhost:5432', self.database_name)\n",
    "        setup_db(self.app, self.database_path)\n",
    "    \n",
    "    def tearDown(self):\n",
    "        \"\"\"Executed after each test\"\"\"\n",
    "        pass\n",
    "\n",
    "    def test_given_behavior(self):\n",
    "        \"\"\"Test _____________ \"\"\"\n",
    "        res = self.client().get('/')\n",
    "\n",
    "        self.assertEqual(res.status_code, 200)"
   ]
  },
  {
   "cell_type": "code",
   "execution_count": null,
   "metadata": {
    "graffitiCellId": "id_wmz50pl"
   },
   "outputs": [],
   "source": [
    "# Make the tests conveniently executable\n",
    "if __name__ == \"__main__\":\n",
    "    unittest.main()"
   ]
  }
 ],
 "metadata": {
  "graffiti": {
   "firstAuthorId": "5362449611",
   "id": "id_0e8k1h4",
   "language": "EN"
  },
  "kernelspec": {
   "display_name": "Python 3",
   "language": "python",
   "name": "python3"
  },
  "language_info": {
   "codemirror_mode": {
    "name": "ipython",
    "version": 3
   },
   "file_extension": ".py",
   "mimetype": "text/x-python",
   "name": "python",
   "nbconvert_exporter": "python",
   "pygments_lexer": "ipython3",
   "version": "3.6.3"
  }
 },
 "nbformat": 4,
 "nbformat_minor": 2
}
